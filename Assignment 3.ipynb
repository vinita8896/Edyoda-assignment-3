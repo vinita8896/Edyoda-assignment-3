{
 "cells": [
  {
   "cell_type": "markdown",
   "id": "e9e70ab7",
   "metadata": {},
   "source": [
    "# Write a Python function to sum all the numbers in a list.\n",
    "\n",
    "\n",
    "\n",
    "Sample List : (8, 2, 3, 0, 7)\n",
    "\n",
    "Expected Output : 20\n",
    "\n"
   ]
  },
  {
   "cell_type": "code",
   "execution_count": 1,
   "id": "521b8612",
   "metadata": {},
   "outputs": [
    {
     "name": "stdout",
     "output_type": "stream",
     "text": [
      "Sum of the numbers in the list: 20\n"
     ]
    }
   ],
   "source": [
    "#1st method\n",
    "def sum_list(numbers):\n",
    "    total = 0\n",
    "    for num in numbers:\n",
    "        total += num\n",
    "    return total\n",
    "\n",
    "sample_list = [8, 2, 3, 0, 7]\n",
    "\n",
    "result = sum_list(sample_list)\n",
    "print(\"Sum of the numbers in the list:\", result)\n"
   ]
  },
  {
   "cell_type": "code",
   "execution_count": 1,
   "id": "b6064562",
   "metadata": {},
   "outputs": [
    {
     "name": "stdout",
     "output_type": "stream",
     "text": [
      "20\n"
     ]
    }
   ],
   "source": [
    "#2nd method\n",
    "list1 = [8,2,3,0,7]\n",
    "s=[i for i in list1]\n",
    "print(sum(s))"
   ]
  },
  {
   "cell_type": "code",
   "execution_count": 2,
   "id": "3eec233f",
   "metadata": {},
   "outputs": [
    {
     "name": "stdout",
     "output_type": "stream",
     "text": [
      "20\n"
     ]
    }
   ],
   "source": [
    "#3rd mathod\n",
    "list1 = [8, 2, 3, 0, 7]\n",
    "print(sum(list(filter(lambda x: (x),list1))))"
   ]
  },
  {
   "cell_type": "markdown",
   "id": "dddbda9e",
   "metadata": {},
   "source": [
    "# Write a Python program to reverse a string.\n",
    "\n",
    "\n",
    "\n",
    "﻿Sample String : \"1234abcd\"\n",
    "\n",
    "Expected Output : \"dcba4321\""
   ]
  },
  {
   "cell_type": "code",
   "execution_count": 2,
   "id": "88fdfa20",
   "metadata": {},
   "outputs": [
    {
     "name": "stdout",
     "output_type": "stream",
     "text": [
      "Reversed String: dcba4321\n"
     ]
    }
   ],
   "source": [
    "#1st method\n",
    "def reverse_string(input_string):\n",
    "    return input_string[::-1]\n",
    "\n",
    "sample_string = \"1234abcd\"\n",
    "\n",
    "reversed_string = reverse_string(sample_string)\n",
    "print(\"Reversed String:\", reversed_string)\n"
   ]
  },
  {
   "cell_type": "code",
   "execution_count": 3,
   "id": "fdf952e6",
   "metadata": {},
   "outputs": [
    {
     "name": "stdout",
     "output_type": "stream",
     "text": [
      "dcba4321\n"
     ]
    }
   ],
   "source": [
    "#2nd method\n",
    "s = \"1234abcd\"\n",
    "reversed_s = s[::-1]\n",
    "print(reversed_s)\n"
   ]
  },
  {
   "cell_type": "markdown",
   "id": "18e76fd8",
   "metadata": {},
   "source": [
    "# Write a Python function that accepts a string and calculate the number of upper case letters and lower case letters.\n",
    "\n",
    "\n",
    "\n",
    "﻿Sample String : 'The quick Brow Fox'\n",
    "\n",
    "Expected Output :\n",
    "\n",
    "No. of Upper case characters : 3\n",
    "\n",
    "No. of Lower case Characters : 12\n",
    "\n"
   ]
  },
  {
   "cell_type": "code",
   "execution_count": 3,
   "id": "9b1e3e73",
   "metadata": {},
   "outputs": [
    {
     "name": "stdout",
     "output_type": "stream",
     "text": [
      "No. of Upper case characters: 3\n",
      "No. of Lower case characters: 12\n"
     ]
    }
   ],
   "source": [
    "def count_upper_and_lower_case(input_string):\n",
    "    upper_count = 0\n",
    "    lower_count = 0\n",
    "\n",
    "    for char in input_string:\n",
    "        if char.isupper():\n",
    "            upper_count += 1\n",
    "        elif char.islower():\n",
    "            lower_count += 1\n",
    "\n",
    "    return upper_count, lower_count\n",
    "\n",
    "sample_string = 'The quick Brow Fox'\n",
    "\n",
    "upper, lower = count_upper_and_lower_case(sample_string)\n",
    "\n",
    "print(\"No. of Upper case characters:\", upper)\n",
    "print(\"No. of Lower case characters:\", lower)\n"
   ]
  },
  {
   "cell_type": "code",
   "execution_count": null,
   "id": "eac0444a",
   "metadata": {},
   "outputs": [],
   "source": []
  }
 ],
 "metadata": {
  "kernelspec": {
   "display_name": "Python 3 (ipykernel)",
   "language": "python",
   "name": "python3"
  },
  "language_info": {
   "codemirror_mode": {
    "name": "ipython",
    "version": 3
   },
   "file_extension": ".py",
   "mimetype": "text/x-python",
   "name": "python",
   "nbconvert_exporter": "python",
   "pygments_lexer": "ipython3",
   "version": "3.10.9"
  }
 },
 "nbformat": 4,
 "nbformat_minor": 5
}
